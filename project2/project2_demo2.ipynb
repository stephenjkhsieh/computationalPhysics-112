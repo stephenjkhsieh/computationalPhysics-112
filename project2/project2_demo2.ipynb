{
 "cells": [
  {
   "cell_type": "code",
   "execution_count": 22,
   "metadata": {},
   "outputs": [],
   "source": [
    "import numpy as np\n",
    "import matplotlib.pyplot as plt\n",
    "from nbody import Particles, NBodySimulator\n",
    "from nbody import load_files, save_movie\n",
    "from numba import set_num_threads"
   ]
  },
  {
   "cell_type": "code",
   "execution_count": 23,
   "metadata": {},
   "outputs": [],
   "source": [
    "# Uncomment the following line to install required packages if needed\n",
    "\n",
    "#!conda install -y -c conda-forge ffmpeg, glob, numba"
   ]
  },
  {
   "cell_type": "markdown",
   "metadata": {},
   "source": [
    "# N-Body Simulation\n",
    "\n",
    "In this notebook, we will test the `NBodySimulator` class in `./nbody/simulator.py`. "
   ]
  },
  {
   "cell_type": "code",
   "execution_count": 24,
   "metadata": {},
   "outputs": [],
   "source": [
    "# Set the number of threads to use for numba\n",
    "nthreads = 1\n",
    "set_num_threads(nthreads)"
   ]
  },
  {
   "cell_type": "markdown",
   "metadata": {},
   "source": [
    "# Exercise 1: The Sun-Earth System\n",
    "\n",
    "The first test is to implment the Sun-Earth system, which is a two body system. We need to make sure that you could simulate a circular motion first."
   ]
  },
  {
   "cell_type": "markdown",
   "metadata": {},
   "source": [
    "## Step 1. The initial condition\n",
    "\n",
    "Copy the initial condition of the Earth-Sun system from `project2_demo1.ipynb`."
   ]
  },
  {
   "cell_type": "code",
   "execution_count": 25,
   "metadata": {},
   "outputs": [
    {
     "data": {
      "text/plain": [
       "array([[0.e+00, 0.e+00, 0.e+00],\n",
       "       [2.e+11, 0.e+00, 0.e+00]])"
      ]
     },
     "execution_count": 25,
     "metadata": {},
     "output_type": "execute_result"
    }
   ],
   "source": [
    "# TODO:\n",
    "time          = 0    # the starting  time\n",
    "num_particles = 2  # number of particles\n",
    "masses        = np.ones((num_particles,1))\n",
    "positions     = np.zeros((num_particles,3)) # 3 directions\n",
    "velocities    = np.zeros((num_particles,3))\n",
    "accelerations = np.zeros((num_particles,3))\n",
    "tags          = np.linspace(1,num_particles,num_particles)\n",
    "\n",
    "particles = Particles(N=num_particles)\n",
    "particles.masses = np.ones((num_particles,1))\n",
    "# particles.positions = np.random.rand(num_particles, 3)\n",
    "particles.positions = np.array([[0,0,0], [2e11,0,0]])\n",
    "particles.velocities = np.random.rand(num_particles, 3)\n",
    "particles.accelerations = np.random.rand(num_particles, 3)\n",
    "particles.tags = np.linspace(1,num_particles,num_particles)\n",
    "particles.positions"
   ]
  },
  {
   "cell_type": "markdown",
   "metadata": {},
   "source": [
    "## Step 2. N-body simulation\n",
    "\n",
    "Make sure you have implmented the below two methods `setup()` and `evolve()`. Run the n-body simulation by:"
   ]
  },
  {
   "cell_type": "code",
   "execution_count": 26,
   "metadata": {},
   "outputs": [
    {
     "name": "stdout",
     "output_type": "stream",
     "text": [
      "3650\n",
      "Time: 8640.0, dt: 8640\n",
      "Time: 267840.0, dt: 8640\n",
      "Time: 527040.0, dt: 8640\n",
      "Time: 786240.0, dt: 8640\n",
      "Time: 1045440.0, dt: 8640\n",
      "Time: 1304640.0, dt: 8640\n",
      "Time: 1563840.0, dt: 8640\n",
      "Time: 1823040.0, dt: 8640\n",
      "Time: 2082240.0, dt: 8640\n",
      "Time: 2341440.0, dt: 8640\n",
      "Time: 2600640.0, dt: 8640\n",
      "Time: 2859840.0, dt: 8640\n",
      "Time: 3119040.0, dt: 8640\n",
      "Time: 3378240.0, dt: 8640\n",
      "Time: 3637440.0, dt: 8640\n",
      "Time: 3896640.0, dt: 8640\n",
      "Time: 4155840.0, dt: 8640\n",
      "Time: 4415040.0, dt: 8640\n",
      "Time: 4674240.0, dt: 8640\n",
      "Time: 4933440.0, dt: 8640\n",
      "Time: 5192640.0, dt: 8640\n",
      "Time: 5451840.0, dt: 8640\n",
      "Time: 5711040.0, dt: 8640\n",
      "Time: 5970240.0, dt: 8640\n",
      "Time: 6229440.0, dt: 8640\n",
      "Time: 6488640.0, dt: 8640\n",
      "Time: 6747840.0, dt: 8640\n",
      "Time: 7007040.0, dt: 8640\n",
      "Time: 7266240.0, dt: 8640\n",
      "Time: 7525440.0, dt: 8640\n",
      "Time: 7784640.0, dt: 8640\n",
      "Time: 8043840.0, dt: 8640\n",
      "Time: 8303040.0, dt: 8640\n",
      "Time: 8562240.0, dt: 8640\n",
      "Time: 8821440.0, dt: 8640\n",
      "Time: 9080640.0, dt: 8640\n",
      "Time: 9339840.0, dt: 8640\n",
      "Time: 9599040.0, dt: 8640\n",
      "Time: 9858240.0, dt: 8640\n",
      "Time: 10117440.0, dt: 8640\n",
      "Time: 10376640.0, dt: 8640\n",
      "Time: 10635840.0, dt: 8640\n",
      "Time: 10895040.0, dt: 8640\n",
      "Time: 11154240.0, dt: 8640\n",
      "Time: 11413440.0, dt: 8640\n",
      "Time: 11672640.0, dt: 8640\n",
      "Time: 11931840.0, dt: 8640\n",
      "Time: 12191040.0, dt: 8640\n",
      "Time: 12450240.0, dt: 8640\n",
      "Time: 12709440.0, dt: 8640\n",
      "Time: 12968640.0, dt: 8640\n",
      "Time: 13227840.0, dt: 8640\n",
      "Time: 13487040.0, dt: 8640\n",
      "Time: 13746240.0, dt: 8640\n",
      "Time: 14005440.0, dt: 8640\n",
      "Time: 14264640.0, dt: 8640\n",
      "Time: 14523840.0, dt: 8640\n",
      "Time: 14783040.0, dt: 8640\n",
      "Time: 15042240.0, dt: 8640\n",
      "Time: 15301440.0, dt: 8640\n",
      "Time: 15560640.0, dt: 8640\n",
      "Time: 15819840.0, dt: 8640\n",
      "Time: 16079040.0, dt: 8640\n",
      "Time: 16338240.0, dt: 8640\n",
      "Time: 16597440.0, dt: 8640\n",
      "Time: 16856640.0, dt: 8640\n",
      "Time: 17115840.0, dt: 8640\n",
      "Time: 17375040.0, dt: 8640\n",
      "Time: 17634240.0, dt: 8640\n",
      "Time: 17893440.0, dt: 8640\n",
      "Time: 18152640.0, dt: 8640\n",
      "Time: 18411840.0, dt: 8640\n",
      "Time: 18671040.0, dt: 8640\n",
      "Time: 18930240.0, dt: 8640\n",
      "Time: 19189440.0, dt: 8640\n",
      "Time: 19448640.0, dt: 8640\n",
      "Time: 19707840.0, dt: 8640\n",
      "Time: 19967040.0, dt: 8640\n",
      "Time: 20226240.0, dt: 8640\n",
      "Time: 20485440.0, dt: 8640\n",
      "Time: 20744640.0, dt: 8640\n",
      "Time: 21003840.0, dt: 8640\n",
      "Time: 21263040.0, dt: 8640\n",
      "Time: 21522240.0, dt: 8640\n",
      "Time: 21781440.0, dt: 8640\n",
      "Time: 22040640.0, dt: 8640\n",
      "Time: 22299840.0, dt: 8640\n",
      "Time: 22559040.0, dt: 8640\n",
      "Time: 22818240.0, dt: 8640\n",
      "Time: 23077440.0, dt: 8640\n",
      "Time: 23336640.0, dt: 8640\n",
      "Time: 23595840.0, dt: 8640\n",
      "Time: 23855040.0, dt: 8640\n",
      "Time: 24114240.0, dt: 8640\n",
      "Time: 24373440.0, dt: 8640\n",
      "Time: 24632640.0, dt: 8640\n",
      "Time: 24891840.0, dt: 8640\n",
      "Time: 25151040.0, dt: 8640\n",
      "Time: 25410240.0, dt: 8640\n",
      "Time: 25669440.0, dt: 8640\n",
      "Time: 25928640.0, dt: 8640\n",
      "Time: 26187840.0, dt: 8640\n",
      "Time: 26447040.0, dt: 8640\n",
      "Time: 26706240.0, dt: 8640\n",
      "Time: 26965440.0, dt: 8640\n",
      "Time: 27224640.0, dt: 8640\n",
      "Time: 27483840.0, dt: 8640\n",
      "Time: 27743040.0, dt: 8640\n",
      "Time: 28002240.0, dt: 8640\n",
      "Time: 28261440.0, dt: 8640\n",
      "Time: 28520640.0, dt: 8640\n",
      "Time: 28779840.0, dt: 8640\n",
      "Time: 29039040.0, dt: 8640\n",
      "Time: 29298240.0, dt: 8640\n",
      "Time: 29557440.0, dt: 8640\n",
      "Time: 29816640.0, dt: 8640\n",
      "Time: 30075840.0, dt: 8640\n",
      "Time: 30335040.0, dt: 8640\n",
      "Time: 30594240.0, dt: 8640\n",
      "Time: 30853440.0, dt: 8640\n",
      "Time: 31112640.0, dt: 8640\n",
      "Time: 31371840.0, dt: 8640\n",
      "Simulation is done!\n"
     ]
    }
   ],
   "source": [
    "simulation = NBodySimulator(particles=particles)\n",
    "simulation.setup(G=6.674e-11,rsoft=1e9,method='Euler', io_freq=30)\n",
    "simulation.evolve(dt=8640, tmax=365*86400)"
   ]
  },
  {
   "cell_type": "markdown",
   "metadata": {},
   "source": [
    "## Step 3. Visualization\n",
    "\n",
    "Check the code in `./nobdy/visualization.py`.\n",
    "Data loader is implmented in the function `load_files`."
   ]
  },
  {
   "cell_type": "code",
   "execution_count": 27,
   "metadata": {},
   "outputs": [
    {
     "name": "stdout",
     "output_type": "stream",
     "text": [
      "['data_nbody/nbody_000000.dat', 'data_nbody/nbody_000030.dat', 'data_nbody/nbody_000060.dat', 'data_nbody/nbody_000090.dat', 'data_nbody/nbody_000120.dat', 'data_nbody/nbody_000150.dat', 'data_nbody/nbody_000180.dat', 'data_nbody/nbody_000210.dat', 'data_nbody/nbody_000240.dat', 'data_nbody/nbody_000270.dat', 'data_nbody/nbody_000300.dat', 'data_nbody/nbody_000330.dat', 'data_nbody/nbody_000360.dat', 'data_nbody/nbody_000390.dat', 'data_nbody/nbody_000420.dat', 'data_nbody/nbody_000450.dat', 'data_nbody/nbody_000480.dat', 'data_nbody/nbody_000510.dat', 'data_nbody/nbody_000540.dat', 'data_nbody/nbody_000570.dat', 'data_nbody/nbody_000600.dat', 'data_nbody/nbody_000630.dat', 'data_nbody/nbody_000660.dat', 'data_nbody/nbody_000690.dat', 'data_nbody/nbody_000720.dat', 'data_nbody/nbody_000750.dat', 'data_nbody/nbody_000780.dat', 'data_nbody/nbody_000810.dat', 'data_nbody/nbody_000840.dat', 'data_nbody/nbody_000870.dat', 'data_nbody/nbody_000900.dat', 'data_nbody/nbody_000930.dat', 'data_nbody/nbody_000960.dat', 'data_nbody/nbody_000990.dat', 'data_nbody/nbody_001020.dat', 'data_nbody/nbody_001050.dat', 'data_nbody/nbody_001080.dat', 'data_nbody/nbody_001110.dat', 'data_nbody/nbody_001140.dat', 'data_nbody/nbody_001170.dat', 'data_nbody/nbody_001200.dat', 'data_nbody/nbody_001230.dat', 'data_nbody/nbody_001260.dat', 'data_nbody/nbody_001290.dat', 'data_nbody/nbody_001320.dat', 'data_nbody/nbody_001350.dat', 'data_nbody/nbody_001380.dat', 'data_nbody/nbody_001410.dat', 'data_nbody/nbody_001440.dat', 'data_nbody/nbody_001470.dat', 'data_nbody/nbody_001500.dat', 'data_nbody/nbody_001530.dat', 'data_nbody/nbody_001560.dat', 'data_nbody/nbody_001590.dat', 'data_nbody/nbody_001620.dat', 'data_nbody/nbody_001650.dat', 'data_nbody/nbody_001680.dat', 'data_nbody/nbody_001710.dat', 'data_nbody/nbody_001740.dat', 'data_nbody/nbody_001770.dat', 'data_nbody/nbody_001800.dat', 'data_nbody/nbody_001830.dat', 'data_nbody/nbody_001860.dat', 'data_nbody/nbody_001890.dat', 'data_nbody/nbody_001920.dat', 'data_nbody/nbody_001950.dat', 'data_nbody/nbody_001980.dat', 'data_nbody/nbody_002010.dat', 'data_nbody/nbody_002040.dat', 'data_nbody/nbody_002070.dat', 'data_nbody/nbody_002100.dat', 'data_nbody/nbody_002130.dat', 'data_nbody/nbody_002160.dat', 'data_nbody/nbody_002190.dat', 'data_nbody/nbody_002220.dat', 'data_nbody/nbody_002250.dat', 'data_nbody/nbody_002280.dat', 'data_nbody/nbody_002310.dat', 'data_nbody/nbody_002340.dat', 'data_nbody/nbody_002370.dat', 'data_nbody/nbody_002400.dat', 'data_nbody/nbody_002430.dat', 'data_nbody/nbody_002460.dat', 'data_nbody/nbody_002490.dat', 'data_nbody/nbody_002520.dat', 'data_nbody/nbody_002550.dat', 'data_nbody/nbody_002580.dat', 'data_nbody/nbody_002610.dat', 'data_nbody/nbody_002640.dat', 'data_nbody/nbody_002670.dat', 'data_nbody/nbody_002700.dat', 'data_nbody/nbody_002730.dat', 'data_nbody/nbody_002760.dat', 'data_nbody/nbody_002790.dat', 'data_nbody/nbody_002820.dat', 'data_nbody/nbody_002850.dat', 'data_nbody/nbody_002880.dat', 'data_nbody/nbody_002910.dat', 'data_nbody/nbody_002940.dat', 'data_nbody/nbody_002970.dat', 'data_nbody/nbody_003000.dat', 'data_nbody/nbody_003030.dat', 'data_nbody/nbody_003060.dat', 'data_nbody/nbody_003090.dat', 'data_nbody/nbody_003120.dat', 'data_nbody/nbody_003150.dat', 'data_nbody/nbody_003180.dat', 'data_nbody/nbody_003210.dat', 'data_nbody/nbody_003240.dat', 'data_nbody/nbody_003270.dat', 'data_nbody/nbody_003300.dat', 'data_nbody/nbody_003330.dat', 'data_nbody/nbody_003360.dat', 'data_nbody/nbody_003390.dat', 'data_nbody/nbody_003420.dat', 'data_nbody/nbody_003450.dat', 'data_nbody/nbody_003480.dat', 'data_nbody/nbody_003510.dat', 'data_nbody/nbody_003540.dat', 'data_nbody/nbody_003570.dat', 'data_nbody/nbody_003600.dat', 'data_nbody/nbody_003630.dat']\n"
     ]
    }
   ],
   "source": [
    "fns = load_files('nbody')\n",
    "print(fns)"
   ]
  },
  {
   "cell_type": "markdown",
   "metadata": {},
   "source": [
    "Modify the matplotlib script "
   ]
  },
  {
   "cell_type": "code",
   "execution_count": 28,
   "metadata": {},
   "outputs": [
    {
     "data": {
      "image/png": "[encoded data removed]",
      "text/plain": [
       "<Figure size 720x720 with 1 Axes>"
      ]
     },
     "metadata": {},
     "output_type": "display_data"
    }
   ],
   "source": [
    "au = 1.496e11\n",
    "save_movie(fns, lengthscale=2*au,filename='nbody_earth_sun.mp4', fps=10)"
   ]
  },
  {
   "cell_type": "markdown",
   "metadata": {},
   "source": [
    "# Exercise 2: N-Body simulation\n",
    "\n",
    "Now, let's test our n-body solver with more particles. Copy the initial condition from the Exercise 2 in `project2_demo1.ipynb`."
   ]
  },
  {
   "cell_type": "code",
   "execution_count": null,
   "metadata": {},
   "outputs": [],
   "source": [
    "# TODO\n",
    "\n",
    "\n",
    "\n",
    "\n",
    "\n",
    "\n",
    "\n",
    "\n"
   ]
  },
  {
   "cell_type": "markdown",
   "metadata": {},
   "source": [
    "## Step 2. Simulation.\n",
    "\n",
    "Visualize the system but use dimensionless units. Set `G=1` and `rsoft=0.001`."
   ]
  },
  {
   "cell_type": "code",
   "execution_count": null,
   "metadata": {},
   "outputs": [],
   "source": [
    "simulation = NBodySimulator(particles=pts)\n",
    "simulation.setup(G=1,rsoft=0.001,method='RK4', io_freq=10, io_header='cluster')\n",
    "simulation.evolve(dt=0.01, tmax=1)"
   ]
  },
  {
   "cell_type": "markdown",
   "metadata": {},
   "source": [
    "It is VERY slow !!!!\n",
    "\n",
    "Beacuse the accerlation calculations requires order of NxN calculations!\n",
    "Could we improve it?\n",
    "\n",
    "First, we should avoid the two \"for\" loops in the calculation using python.\\\n",
    "Second, we have many cup cores in our machine. Could we parallelize it?"
   ]
  },
  {
   "cell_type": "markdown",
   "metadata": {},
   "source": [
    "# `numba`\n",
    "\n",
    "Step 1. Take out the function to calculate the accerlation from the class into a pure function that only counts math calculations (aka. a kernel).\n",
    "\n",
    "Step 2. Use the `numba`'s `@jit` micro. \n",
    "\n",
    "Results: In my experiments. I got roughly x140 speed up with the @jit(nopython=True). \n",
    "\n",
    "Step 3. Try using `@njit` and `prange` in numba."
   ]
  },
  {
   "cell_type": "markdown",
   "metadata": {},
   "source": [
    "## Performance\n",
    "\n",
    "### Strong Scaling Test\n",
    "\n",
    "**Strong scaling**: The number of processors is increased while the problem size remains constant.\\\n",
    "We could use `%timeit` to measure the performance. Let's run 1000 particles for 10 step."
   ]
  },
  {
   "cell_type": "code",
   "execution_count": null,
   "metadata": {},
   "outputs": [],
   "source": [
    "num_particles = 1000\n",
    "pts = Particles(N=num_particles)\n",
    "pts.masses = np.ones((num_particles, 1))* 10/num_particles\n",
    "pts.positions = np.random.randn(num_particles, 3)\n",
    "pts.velocities = np.random.randn(num_particles, 3)\n",
    "pts.accelerations = np.zeros((num_particles, 3))\n",
    "\n",
    "simulation = NBodySimulator(particles=pts)\n",
    "simulation.setup(G=1,rsoft=0.001,method='RK4', io_screen=False, io_freq=0, io_header='cluster')\n",
    "#simulation.evolve(dt=0.02, tmax=1)"
   ]
  },
  {
   "cell_type": "code",
   "execution_count": null,
   "metadata": {},
   "outputs": [],
   "source": [
    "%timeit simulation.evolve(dt=0.02, tmax=0.2)"
   ]
  },
  {
   "cell_type": "markdown",
   "metadata": {},
   "source": [
    "**Kuo-Chuan's measurements**\n",
    "\n",
    "CPU: 3 GHz 10-Core Intel Xeon W\n",
    "\n",
    "1000 particles. 10 steps.\n",
    "\n",
    "without `numba`: 5min 31s ± 2 s per loop (mean ± std. dev. of 7 runs, 1 loop each)\n",
    "with `numba`:\n",
    "* 1 core (`jit`): 17.7 s ± 328 ms per loop (mean ± std. dev. of 7 runs, 1 loop each)\n",
    "* 1 core (`njit`): 10.4 s ± 337 ms per loop (mean ± std. dev. of 7 runs, 1 loop each)\n",
    "* 2 cores: 7.61 s ± 52.8 ms per loop (mean ± std. dev. of 7 runs, 1 loop each)\n",
    "* 6 cores: 3.35 s ± 50.9 ms per loop (mean ± std. dev. of 7 runs, 1 loop each)\n",
    "* 10 cores: 2.12 s ± 16.2 ms per loop (mean ± std. dev. of 7 runs, 1 loop each)\n",
    "* 12 cores: 1.95 s ± 36.1 ms per loop (mean ± std. dev. of 7 runs, 1 loop each)\n",
    "* 16 cores: 1.64 s ± 46 ms per loop (mean ± std. dev. of 7 runs, 1 loop each)\n",
    "* 20 cores: 1.49 s ± 55.1 ms per loop (mean ± std. dev. of 7 runs, 1 loop each)"
   ]
  },
  {
   "cell_type": "code",
   "execution_count": null,
   "metadata": {},
   "outputs": [],
   "source": [
    "threads = [1,2,6,10,12,16,20]                     # Replace it to your measured values\n",
    "times = [10.4, 7.61, 3.35, 2.12, 1.95, 1.64,1.49] # Replace it to your measured values\n",
    "ideal = times[0]/np.array(threads)\n",
    "plt.loglog(threads, times)\n",
    "plt.loglog(threads, ideal, '--')\n",
    "plt.xlabel('Number of threads')\n",
    "plt.ylabel('Time for 10 iterations (s)')\n",
    "plt.legend(['Measured', 'Ideal'])\n",
    "plt.title('Strong scaling')\n",
    "plt.show()"
   ]
  },
  {
   "cell_type": "markdown",
   "metadata": {},
   "source": [
    "## Weak Scaling Test\n",
    "\n",
    "In N-body simulation, the problem size is proportional to $N^2$.\\\n",
    "**Weaking scaling** test measures the scaling with the same problem size per thread (core)."
   ]
  },
  {
   "cell_type": "code",
   "execution_count": null,
   "metadata": {},
   "outputs": [],
   "source": [
    "num_particles = int(225*np.sqrt(nthreads))\n",
    "print(\"N =\", num_particles, \", threads = \", nthreads)\n",
    "pts = Particles(N=num_particles)\n",
    "pts.masses = np.ones((num_particles, 1))* 10/num_particles\n",
    "pts.positions = np.random.randn(num_particles, 3)\n",
    "pts.velocities = np.random.randn(num_particles, 3)\n",
    "pts.accelerations = np.zeros((num_particles, 3))\n",
    "\n",
    "simulation = NBodySimulator(particles=pts)\n",
    "simulation.setup(G=1,rsoft=0.001,method='RK4', io_screen=False, io_freq=0, io_header='cluster')"
   ]
  },
  {
   "cell_type": "code",
   "execution_count": null,
   "metadata": {},
   "outputs": [],
   "source": [
    "%timeit simulation.evolve(dt=0.02, tmax=0.2)"
   ]
  },
  {
   "cell_type": "markdown",
   "metadata": {},
   "source": [
    "Kuo-Chuan's measurements\n",
    "\n",
    "* N = 225 threads =  1: 537 ms ± 13.9 ms per loop (mean ± std. dev. of 7 runs, 1 loop each)\n",
    "* N = 450 threads =  4: 981 ms ± 17.3 ms per loop (mean ± std. dev. of 7 runs, 1 loop each)\n",
    "* N = 636 threads =  8: 1.07 s ± 22.3 ms per loop (mean ± std. dev. of 7 runs, 1 loop each)\n",
    "* N = 779 threads =  12: 1.17 s ± 33.7 ms per loop (mean ± std. dev. of 7 runs, 1 loop each)\n",
    "* N = 900 threads =  16: 1.29 s ± 6.85 ms per loop (mean ± std. dev. of 7 runs, 1 loop each)\n",
    "* N = 1006 threads =  20: 1.51 s ± 35.3 ms per loop (mean ± std. dev. of 7 runs, 1 loop each)"
   ]
  },
  {
   "cell_type": "code",
   "execution_count": null,
   "metadata": {},
   "outputs": [],
   "source": [
    "threads = [1,4,8,12,16,20]                     # Replace it to your measured values\n",
    "times = [0.537, 0.981, 1.07, 1.17, 1.29, 1.51] # Replace it to your measured values\n",
    "ideal = 0.981 * np.ones(len(threads))\n",
    "plt.plot(threads, times)\n",
    "plt.plot(threads, ideal, '--')\n",
    "plt.xlabel('Number of threads')\n",
    "plt.ylabel('Time for 10 iterations (s)')\n",
    "plt.legend(['Measured', 'Ideal'])\n",
    "plt.title('Weak scaling')\n",
    "plt.show()"
   ]
  }
 ],
 "metadata": {
  "kernelspec": {
   "display_name": "comphys-112",
   "language": "python",
   "name": "python3"
  },
  "language_info": {
   "codemirror_mode": {
    "name": "ipython",
    "version": 3
   },
   "file_extension": ".py",
   "mimetype": "text/x-python",
   "name": "python",
   "nbconvert_exporter": "python",
   "pygments_lexer": "ipython3",
   "version": "3.12.1"
  }
 },
 "nbformat": 4,
 "nbformat_minor": 2
}
